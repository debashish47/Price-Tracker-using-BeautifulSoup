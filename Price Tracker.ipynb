{
 "cells": [
  {
   "cell_type": "code",
   "execution_count": 13,
   "id": "c288c9de-afb1-4f6a-9652-18be22791714",
   "metadata": {},
   "outputs": [
    {
     "name": "stdout",
     "output_type": "stream",
     "text": [
      "Requirement already satisfied: schedule in e:\\anaconda\\lib\\site-packages (1.2.2)\n",
      "Note: you may need to restart the kernel to use updated packages.\n"
     ]
    }
   ],
   "source": [
    "pip install schedule"
   ]
  },
  {
   "cell_type": "code",
   "execution_count": 14,
   "id": "94526771",
   "metadata": {},
   "outputs": [],
   "source": [
    "###Importing necessary libraries\n",
    "import requests\n",
    "from bs4 import BeautifulSoup\n",
    "from smtplib import SMTP\n",
    "import schedule\n",
    "import time"
   ]
  },
  {
   "cell_type": "code",
   "execution_count": 15,
   "id": "a897e525",
   "metadata": {},
   "outputs": [],
   "source": [
    "### Product URL to track upon\n",
    "URL1=\"https://www.amazon.in/Apple-MacBook-Chip-13-inch-256GB/dp/B08N5W4NNB/ref=sr_1_3?crid=1F3ZK897UPW08&dib=eyJ2IjoiMSJ9.lIRxEw1BIVqCOYnjYe9Unb-j-987f6lJ_vtC669NgN36mY23h36UpyPqbB6kzPqbk5u6CbML7ogsoLB6wsTipz-SQ2GpNIebEWJoXrHlbT9PK3YY5yGwJlFAiG1R0gIqJdqe4m7qloC-D-_QCU5HriNJ0H54FARgREyUbEE_rQQVR8f6URAjt36SyCw3E3rtdYiHckmz-R_PbwLGj3FT98kk1DrKXakyu45K-enmjMw.u6bxqXkU-4GBu91XHZOCsn3jHgYjHflmkq2x2uBCTvw&dib_tag=se&keywords=macbook&qid=1721668602&sprefix=mac%2Caps%2C245&sr=8-3\"\n",
    "URL2=\"https://www.flipkart.com/apple-macbook-air-m2-8-gb-256-gb-ssd-mac-os-monterey-mly33hn-a/p/itm0946c05e6335c?pid=COMGFB2GMCRXZG85&lid=LSTCOMGFB2GMCRXZG855GPGWQ&marketplace=FLIPKART&q=macbook+air+m1&store=6bo%2Fb5g&spotlightTagId=BestsellerId_6bo%2Fb5g&srno=s_1_1&otracker=AS_Query_OrganicAutoSuggest_3_5_sc_na_ps&otracker1=AS_Query_OrganicAutoSuggest_3_5_sc_na_ps&fm=search-autosuggest&iid=fa747580-acef-4d4e-8e64-8ff7f49ebfb4.COMGFB2GMCRXZG85.SEARCH&ppt=sp&ppn=sp&ssid=ll3xehzi740000001730202304846&qH=be9862f704979d6e\""
   ]
  },
  {
   "cell_type": "code",
   "execution_count": 16,
   "id": "dc4fc2b8",
   "metadata": {},
   "outputs": [],
   "source": [
    "###  Amazon price extract\n",
    "def amazon_extract_price():\n",
    "    page1=requests.get(URL1,headers={\"User-Agent\":\"Mozilla/5.0 (Windows NT 10.0; Win64; x64) AppleWebKit/537.36 (KHTML, like Gecko) Chrome/126.0.0.0 Safari/537.36\"})\n",
    "    soup1=BeautifulSoup(page1.content,'html.parser')\n",
    "    price1=float(soup1.find(\"span\",{\"class\":\"a-price-whole\"}).text.replace(\",\",\"\"))\n",
    "    return price1"
   ]
  },
  {
   "cell_type": "code",
   "execution_count": 17,
   "id": "f9574a1d",
   "metadata": {},
   "outputs": [],
   "source": [
    "###Flipkart price extract\n",
    "def flipkart_extract_price():\n",
    "    page2=requests.get(URL2,headers = {\"User-Agent\": \"Mozilla/5.0 (Windows NT 10.0; Win64; x64) AppleWebKit/537.36 (KHTML, like Gecko) Chrome/58.0.3029.110 Safari/537.3\"})\n",
    "    page2.status_code\n",
    "    soup2=BeautifulSoup(page2.content,'html.parser')\n",
    "    price2= float(soup2.find(\"div\",{\"class\":\"Nx9bqj CxhGGd\"}).text[1:].replace(\",\",\"\"))\n",
    "    return price2"
   ]
  },
  {
   "cell_type": "code",
   "execution_count": 18,
   "id": "e8d04bc9",
   "metadata": {},
   "outputs": [],
   "source": [
    "## setting up of simple mail transmitting protocol\n",
    "SMTP_SERVER=\"smtp.gmail.com\"\n",
    "PORT=587\n",
    "EMAIL_ID=\"debashish.sahoo2021@gmail.com\"#--------------------->change\n",
    "PASSWORD=\"szjs iijo vara redm\""
   ]
  },
  {
   "cell_type": "code",
   "execution_count": 19,
   "id": "8a19a09a",
   "metadata": {},
   "outputs": [],
   "source": [
    "###function to send mail\n",
    "def notify(URL):\n",
    "    server=SMTP(SMTP_SERVER, PORT)\n",
    "    server.starttls()\n",
    "    server.login(EMAIL_ID,PASSWORD)\n",
    "\n",
    "    subject=\"BUY NOW!!\"\n",
    "    body=\"price has fallen. Go buy it now- \"+URL\n",
    "    msg=f\"subject:{subject}\\n\\n{body}\"\n",
    "\n",
    "    server.sendmail(EMAIL_ID, EMAIL_ID,msg)\n",
    "    server.quit()"
   ]
  },
  {
   "cell_type": "code",
   "execution_count": 20,
   "id": "83bc3500",
   "metadata": {},
   "outputs": [],
   "source": [
    "###customer budget\n",
    "req_price=80000"
   ]
  },
  {
   "cell_type": "code",
   "execution_count": 21,
   "id": "03427216",
   "metadata": {},
   "outputs": [
    {
     "data": {
      "text/plain": [
       "Every 1 minute do your_script() (last run: [never], next run: 2024-10-29 23:38:52)"
      ]
     },
     "execution_count": 21,
     "metadata": {},
     "output_type": "execute_result"
    }
   ],
   "source": [
    "import schedule\n",
    "import time\n",
    "\n",
    "def your_script():\n",
    "    \n",
    "  # Your Python script logic here\n",
    "    print(\"Running your script every minute!\")\n",
    "    fprice=flipkart_extract_price()\n",
    "    aprice=amazon_extract_price()\n",
    "    if fprice<=req_price or aprice<=req_price:\n",
    "        if(fprice<aprice):\n",
    "            notify(URL2)\n",
    "        else:\n",
    "            notify(URL1)\n",
    "    \n",
    "\n",
    "schedule.every(1).minutes.do(your_script)\n",
    "\n",
    "\n"
   ]
  },
  {
   "cell_type": "code",
   "execution_count": null,
   "id": "d95bb405-7064-46a0-a7c4-2e411e1ccd36",
   "metadata": {},
   "outputs": [],
   "source": []
  }
 ],
 "metadata": {
  "kernelspec": {
   "display_name": "Python 3 (ipykernel)",
   "language": "python",
   "name": "python3"
  },
  "language_info": {
   "codemirror_mode": {
    "name": "ipython",
    "version": 3
   },
   "file_extension": ".py",
   "mimetype": "text/x-python",
   "name": "python",
   "nbconvert_exporter": "python",
   "pygments_lexer": "ipython3",
   "version": "3.12.4"
  }
 },
 "nbformat": 4,
 "nbformat_minor": 5
}
